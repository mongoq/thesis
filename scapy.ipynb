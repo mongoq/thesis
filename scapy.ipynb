{
  "nbformat": 4,
  "nbformat_minor": 0,
  "metadata": {
    "colab": {
      "provenance": [],
      "authorship_tag": "ABX9TyM7NJ1aufAup/OYW28VO5YP",
      "include_colab_link": true
    },
    "kernelspec": {
      "name": "python3",
      "display_name": "Python 3"
    },
    "language_info": {
      "name": "python"
    }
  },
  "cells": [
    {
      "cell_type": "markdown",
      "metadata": {
        "id": "view-in-github",
        "colab_type": "text"
      },
      "source": [
        "<a href=\"https://colab.research.google.com/github/mongoq/thesis/blob/main/scapy.ipynb\" target=\"_parent\"><img src=\"https://colab.research.google.com/assets/colab-badge.svg\" alt=\"Open In Colab\"/></a>"
      ]
    },
    {
      "cell_type": "markdown",
      "source": [
        "https://scapy.readthedocs.io/en/latest/usage.html"
      ],
      "metadata": {
        "id": "iGY2dT0CEJaI"
      }
    },
    {
      "cell_type": "code",
      "source": [
        "! pip install scapy"
      ],
      "metadata": {
        "colab": {
          "base_uri": "https://localhost:8080/"
        },
        "id": "OUAUsqqtCwhC",
        "outputId": "7977f990-3a54-47da-8b20-2b2d30274edf"
      },
      "execution_count": 12,
      "outputs": [
        {
          "output_type": "stream",
          "name": "stdout",
          "text": [
            "Looking in indexes: https://pypi.org/simple, https://us-python.pkg.dev/colab-wheels/public/simple/\n",
            "Requirement already satisfied: scapy in /usr/local/lib/python3.7/dist-packages (2.4.5)\n"
          ]
        }
      ]
    },
    {
      "cell_type": "code",
      "execution_count": 13,
      "metadata": {
        "id": "6TKL8zo1CaRF"
      },
      "outputs": [],
      "source": [
        "from scapy.all import *"
      ]
    },
    {
      "cell_type": "markdown",
      "source": [
        "Ping"
      ],
      "metadata": {
        "id": "-DhnocpdFYrj"
      }
    },
    {
      "cell_type": "code",
      "source": [
        "ans, unans = sr(IP(dst=\"8.8.8.8\")/ICMP(), timeout=3)"
      ],
      "metadata": {
        "colab": {
          "base_uri": "https://localhost:8080/"
        },
        "id": "UUE3oTyIC3mU",
        "outputId": "a9884169-64cc-4a22-8c82-1113578fd64b"
      },
      "execution_count": 15,
      "outputs": [
        {
          "output_type": "stream",
          "name": "stdout",
          "text": [
            "Begin emission:\n",
            "Finished sending 1 packets.\n",
            "\n",
            "Received 1 packets, got 1 answers, remaining 0 packets\n"
          ]
        }
      ]
    }
  ]
}