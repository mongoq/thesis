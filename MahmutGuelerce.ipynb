{
  "nbformat": 4,
  "nbformat_minor": 0,
  "metadata": {
    "colab": {
      "provenance": [],
      "authorship_tag": "ABX9TyP/MeiFXcUc1UAh3j68Uft2",
      "include_colab_link": true
    },
    "kernelspec": {
      "name": "python3",
      "display_name": "Python 3"
    },
    "language_info": {
      "name": "python"
    }
  },
  "cells": [
    {
      "cell_type": "markdown",
      "metadata": {
        "id": "view-in-github",
        "colab_type": "text"
      },
      "source": [
        "<a href=\"https://colab.research.google.com/github/mongoq/thesis/blob/main/MahmutGuelerce.ipynb\" target=\"_parent\"><img src=\"https://colab.research.google.com/assets/colab-badge.svg\" alt=\"Open In Colab\"/></a>"
      ]
    },
    {
      "cell_type": "markdown",
      "source": [
        "Get model etc. from https://mahmutgulerce.com/skin-melanoma-detection-with-teachable-machine/"
      ],
      "metadata": {
        "id": "twb29ZTDGnH0"
      }
    },
    {
      "cell_type": "code",
      "source": [
        "!wget https://teachablemachine.withgoogle.com/models/uaL1JHYtX/model.json\n",
        "!wget https://teachablemachine.withgoogle.com/models/uaL1JHYtX/metadata.json\n",
        "!wget https://teachablemachine.withgoogle.com/models/uaL1JHYtX/model.weights.bin"
      ],
      "metadata": {
        "id": "oPTAYPj9Gcxs"
      },
      "execution_count": null,
      "outputs": []
    },
    {
      "cell_type": "code",
      "source": [
        "!pip install tensorflow\n",
        "!pip install tensorflowjs\n",
        "!pip install --extra-index-url https://google-coral.github.io/py-repo/ tflite_runtime"
      ],
      "metadata": {
        "id": "W8A3ionfIwl7"
      },
      "execution_count": null,
      "outputs": []
    },
    {
      "cell_type": "markdown",
      "source": [
        "https://stackoverflow.com/questions/54242701/how-to-convert-tensorflow-js-model-and-weights-to-standard-tensorflow"
      ],
      "metadata": {
        "id": "kKQ6OvxfVKCY"
      }
    },
    {
      "cell_type": "code",
      "source": [
        "!tensorflowjs_converter --input_format=tfjs_layers_model --output_format=keras ./model.json ./model.hdf5"
      ],
      "metadata": {
        "id": "ZOndB86yVNip"
      },
      "execution_count": null,
      "outputs": []
    },
    {
      "cell_type": "code",
      "source": [
        "!ls"
      ],
      "metadata": {
        "colab": {
          "base_uri": "https://localhost:8080/"
        },
        "id": "5CGd2wWcVxMy",
        "outputId": "bae64d04-70ce-4d3b-ef73-07d4dd0e9105"
      },
      "execution_count": null,
      "outputs": [
        {
          "output_type": "stream",
          "name": "stdout",
          "text": [
            "metadata.json\t model.hdf5  model.json.1\tmodel.weights.bin.1\n",
            "metadata.json.1  model.json  model.weights.bin\tsample_data\n"
          ]
        }
      ]
    },
    {
      "cell_type": "code",
      "source": [
        "import tensorflow as tf\n",
        "\n",
        "hdf5_model_path = './model.hdf5'\n",
        "loaded_model = tf.keras.models.load_model(hdf5_model_path)"
      ],
      "metadata": {
        "colab": {
          "base_uri": "https://localhost:8080/"
        },
        "id": "yoVnOofHXLy2",
        "outputId": "e1f152c0-1ea2-4ac6-f643-0c0828a36160"
      },
      "execution_count": null,
      "outputs": [
        {
          "output_type": "stream",
          "name": "stderr",
          "text": [
            "WARNING:tensorflow:No training configuration found in the save file, so the model was *not* compiled. Compile it manually.\n"
          ]
        }
      ]
    },
    {
      "cell_type": "code",
      "source": [
        "converter = tf.lite.TFLiteConverter.from_keras_model(loaded_model)\n",
        "tflite_model = converter.convert()"
      ],
      "metadata": {
        "id": "U57mr4qBXIMB"
      },
      "execution_count": null,
      "outputs": []
    },
    {
      "cell_type": "code",
      "source": [
        "tflite_model_path = './model.tflite'\n",
        "with open(tflite_model_path, 'wb') as f:\n",
        "    f.write(tflite_model)"
      ],
      "metadata": {
        "id": "3rmFH1pfXhsg"
      },
      "execution_count": null,
      "outputs": []
    },
    {
      "cell_type": "markdown",
      "source": [
        "Get Edge TPU Compiler"
      ],
      "metadata": {
        "id": "zVvnW1KyZhq-"
      }
    },
    {
      "cell_type": "code",
      "source": [
        "! curl https://packages.cloud.google.com/apt/doc/apt-key.gpg | sudo apt-key add -\n",
        "\n",
        "! echo \"deb https://packages.cloud.google.com/apt coral-edgetpu-stable main\" | sudo tee /etc/apt/sources.list.d/coral-edgetpu.list\n",
        "\n",
        "! sudo apt-get update\n",
        "\n",
        "! sudo apt-get install edgetpu-compiler"
      ],
      "metadata": {
        "id": "zRgNQtweYGa_"
      },
      "execution_count": null,
      "outputs": []
    },
    {
      "cell_type": "markdown",
      "source": [
        "Compile for Google Coral Edge tPU"
      ],
      "metadata": {
        "id": "GNJ0y_GzZYWP"
      }
    },
    {
      "cell_type": "code",
      "source": [
        "!edgetpu_compiler model.tflite"
      ],
      "metadata": {
        "colab": {
          "base_uri": "https://localhost:8080/"
        },
        "id": "C3GrDp4LYWef",
        "outputId": "1f58da08-c4b6-485b-ae75-a06166566c17"
      },
      "execution_count": null,
      "outputs": [
        {
          "output_type": "stream",
          "name": "stdout",
          "text": [
            "Edge TPU Compiler version 16.0.384591198\n",
            "Started a compilation timeout timer of 180 seconds.\n",
            "\n",
            "Model compiled successfully in 10 ms.\n",
            "\n",
            "Input model: model.tflite\n",
            "Input size: 2.01MiB\n",
            "Output model: model_edgetpu.tflite\n",
            "Output size: 2.01MiB\n",
            "On-chip memory used for caching model parameters: 0.00B\n",
            "On-chip memory remaining for caching model parameters: 0.00B\n",
            "Off-chip memory used for streaming uncached model parameters: 0.00B\n",
            "Number of Edge TPU subgraphs: 0\n",
            "Total number of operations: 71\n",
            "Operation log: model_edgetpu.log\n",
            "\n",
            "Model successfully compiled but not all operations are supported by the Edge TPU. A percentage of the model will instead run on the CPU, which is slower. If possible, consider updating your model to use only operations supported by the Edge TPU. For details, visit g.co/coral/model-reqs.\n",
            "Number of operations that will run on Edge TPU: 0\n",
            "Number of operations that will run on CPU: 71\n",
            "See the operation log file for individual operation details.\n",
            "Compilation child process completed within timeout period.\n",
            "Compilation succeeded! \n"
          ]
        }
      ]
    },
    {
      "cell_type": "markdown",
      "source": [
        "Generate labels.txt"
      ],
      "metadata": {
        "id": "cnoGGWX_ZUEQ"
      }
    },
    {
      "cell_type": "code",
      "source": [
        "!echo Bening > labels.txt\n",
        "!echo Malign >> labels.txt"
      ],
      "metadata": {
        "id": "YocAELG0Y-ME"
      },
      "execution_count": null,
      "outputs": []
    },
    {
      "cell_type": "markdown",
      "source": [
        "Zip model_edgetpu.log model_edgetpu.tflite labels.txt"
      ],
      "metadata": {
        "id": "jZsP9TjDcPEf"
      }
    },
    {
      "cell_type": "code",
      "source": [
        "!zip mmg_edgetpu.zip model_edgetpu.log model_edgetpu.tflite model.tflite labels.txt"
      ],
      "metadata": {
        "colab": {
          "base_uri": "https://localhost:8080/"
        },
        "id": "aKpESm3IcObn",
        "outputId": "997ee927-c639-49df-fa15-2e0053572132"
      },
      "execution_count": null,
      "outputs": [
        {
          "output_type": "stream",
          "name": "stdout",
          "text": [
            "updating: model_edgetpu.log (deflated 71%)\n",
            "updating: model_edgetpu.tflite (deflated 8%)\n",
            "updating: labels.txt (stored 0%)\n",
            "  adding: model.tflite (deflated 8%)\n"
          ]
        }
      ]
    },
    {
      "cell_type": "markdown",
      "source": [
        "Download"
      ],
      "metadata": {
        "id": "l9Q1TfmkcwYG"
      }
    },
    {
      "cell_type": "code",
      "source": [
        "from google.colab import files\n",
        "files.download(\"mmg_edgetpu.zip\")"
      ],
      "metadata": {
        "colab": {
          "base_uri": "https://localhost:8080/",
          "height": 17
        },
        "id": "Ux5wtAPuc-Yd",
        "outputId": "d30d7324-75e6-41c0-cabe-504d3c14605d"
      },
      "execution_count": null,
      "outputs": [
        {
          "output_type": "display_data",
          "data": {
            "text/plain": [
              "<IPython.core.display.Javascript object>"
            ],
            "application/javascript": [
              "\n",
              "    async function download(id, filename, size) {\n",
              "      if (!google.colab.kernel.accessAllowed) {\n",
              "        return;\n",
              "      }\n",
              "      const div = document.createElement('div');\n",
              "      const label = document.createElement('label');\n",
              "      label.textContent = `Downloading \"${filename}\": `;\n",
              "      div.appendChild(label);\n",
              "      const progress = document.createElement('progress');\n",
              "      progress.max = size;\n",
              "      div.appendChild(progress);\n",
              "      document.body.appendChild(div);\n",
              "\n",
              "      const buffers = [];\n",
              "      let downloaded = 0;\n",
              "\n",
              "      const channel = await google.colab.kernel.comms.open(id);\n",
              "      // Send a message to notify the kernel that we're ready.\n",
              "      channel.send({})\n",
              "\n",
              "      for await (const message of channel.messages) {\n",
              "        // Send a message to notify the kernel that we're ready.\n",
              "        channel.send({})\n",
              "        if (message.buffers) {\n",
              "          for (const buffer of message.buffers) {\n",
              "            buffers.push(buffer);\n",
              "            downloaded += buffer.byteLength;\n",
              "            progress.value = downloaded;\n",
              "          }\n",
              "        }\n",
              "      }\n",
              "      const blob = new Blob(buffers, {type: 'application/binary'});\n",
              "      const a = document.createElement('a');\n",
              "      a.href = window.URL.createObjectURL(blob);\n",
              "      a.download = filename;\n",
              "      div.appendChild(a);\n",
              "      a.click();\n",
              "      div.remove();\n",
              "    }\n",
              "  "
            ]
          },
          "metadata": {}
        },
        {
          "output_type": "display_data",
          "data": {
            "text/plain": [
              "<IPython.core.display.Javascript object>"
            ],
            "application/javascript": [
              "download(\"download_9a36fadb-2672-4f10-99cf-39738ffb9c3c\", \"mmg_edgetpu.zip\", 3873323)"
            ]
          },
          "metadata": {}
        }
      ]
    }
  ]
}