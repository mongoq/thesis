{
  "nbformat": 4,
  "nbformat_minor": 0,
  "metadata": {
    "colab": {
      "provenance": [],
      "authorship_tag": "ABX9TyM91HBaRQbkim1EDE96ZDAY",
      "include_colab_link": true
    },
    "kernelspec": {
      "name": "python3",
      "display_name": "Python 3"
    },
    "language_info": {
      "name": "python"
    }
  },
  "cells": [
    {
      "cell_type": "markdown",
      "metadata": {
        "id": "view-in-github",
        "colab_type": "text"
      },
      "source": [
        "<a href=\"https://colab.research.google.com/github/mongoq/thesis/blob/main/nbconvert_pdf_latex.ipynb\" target=\"_parent\"><img src=\"https://colab.research.google.com/assets/colab-badge.svg\" alt=\"Open In Colab\"/></a>"
      ]
    },
    {
      "cell_type": "markdown",
      "source": [
        "## Convert .ipynb Colab Jupyter notebooks to PDF and LaTeX"
      ],
      "metadata": {
        "id": "awAaQ-MMMWWq"
      }
    },
    {
      "cell_type": "markdown",
      "source": [
        "Install dependencies"
      ],
      "metadata": {
        "id": "zVopRb64Pfhf"
      }
    },
    {
      "cell_type": "code",
      "execution_count": null,
      "metadata": {
        "id": "6XZv83zfHOq1"
      },
      "outputs": [],
      "source": [
        "!pip install nbconvert"
      ]
    },
    {
      "cell_type": "code",
      "source": [
        "!sudo apt install texlive-xetex"
      ],
      "metadata": {
        "id": "oz_dApSDJry3"
      },
      "execution_count": null,
      "outputs": []
    },
    {
      "cell_type": "markdown",
      "source": [
        "Upload .ipynb file"
      ],
      "metadata": {
        "id": "nKbQHliEPbzw"
      }
    },
    {
      "cell_type": "code",
      "source": [
        "from google.colab import files\n",
        "uploaded = files.upload()\n",
        "filename = list(uploaded.keys())[0]"
      ],
      "metadata": {
        "id": "JDaXMIo3UtKV"
      },
      "execution_count": null,
      "outputs": []
    },
    {
      "cell_type": "markdown",
      "source": [
        "Remove parentheses \"(\" and \")\" from filename"
      ],
      "metadata": {
        "id": "yZAsZsxLPWoq"
      }
    },
    {
      "cell_type": "code",
      "source": [
        "import os\n",
        "new_filename = filename.replace('(', '').replace(')', '')\n",
        "os.rename(filename, new_filename)"
      ],
      "metadata": {
        "id": "2WYRnr4TVnMG"
      },
      "execution_count": 6,
      "outputs": []
    },
    {
      "cell_type": "markdown",
      "source": [
        "Convert Colab .ipynb to PDF and Latex"
      ],
      "metadata": {
        "id": "3pHu0YxAPGG2"
      }
    },
    {
      "cell_type": "code",
      "source": [
        "!jupyter nbconvert --to pdf {new_filename}"
      ],
      "metadata": {
        "id": "mk28HJTVJ9w8"
      },
      "execution_count": null,
      "outputs": []
    },
    {
      "cell_type": "code",
      "source": [
        "!jupyter nbconvert --to latex {new_filename}"
      ],
      "metadata": {
        "id": "1xCXJIYtMouE"
      },
      "execution_count": null,
      "outputs": []
    }
  ]
}