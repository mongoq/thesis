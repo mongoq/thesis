{
  "nbformat": 4,
  "nbformat_minor": 0,
  "metadata": {
    "colab": {
      "provenance": [],
      "collapsed_sections": [],
      "authorship_tag": "ABX9TyPNj3vJPj6NmbZoLMPABwSK",
      "include_colab_link": true
    },
    "kernelspec": {
      "name": "python3",
      "display_name": "Python 3"
    },
    "language_info": {
      "name": "python"
    },
    "accelerator": "GPU"
  },
  "cells": [
    {
      "cell_type": "markdown",
      "metadata": {
        "id": "view-in-github",
        "colab_type": "text"
      },
      "source": [
        "<a href=\"https://colab.research.google.com/github/mongoq/thesis/blob/main/Classic_Motorway.ipynb\" target=\"_parent\"><img src=\"https://colab.research.google.com/assets/colab-badge.svg\" alt=\"Open In Colab\"/></a>"
      ]
    },
    {
      "cell_type": "markdown",
      "source": [
        "Source: https://towardsdatascience.com/implementing-real-time-object-detection-system-using-pytorch-and-opencv-70bac41148f7"
      ],
      "metadata": {
        "id": "axOK8tBxlbLR"
      }
    },
    {
      "cell_type": "code",
      "source": [
        "! pip install pafy youtube-dl==2020.12.2"
      ],
      "metadata": {
        "colab": {
          "base_uri": "https://localhost:8080/"
        },
        "id": "U0e4Kjecl3NF",
        "outputId": "192ff409-d645-40f6-a8da-f3e1593ef68b"
      },
      "execution_count": null,
      "outputs": [
        {
          "output_type": "stream",
          "name": "stdout",
          "text": [
            "Looking in indexes: https://pypi.org/simple, https://us-python.pkg.dev/colab-wheels/public/simple/\n",
            "Requirement already satisfied: pafy in /usr/local/lib/python3.7/dist-packages (0.5.5)\n",
            "Requirement already satisfied: youtube-dl==2020.12.2 in /usr/local/lib/python3.7/dist-packages (2020.12.2)\n"
          ]
        }
      ]
    },
    {
      "cell_type": "code",
      "execution_count": null,
      "metadata": {
        "id": "UmSwhMPTilsy"
      },
      "outputs": [],
      "source": [
        "import cv2\n",
        "import pafy\n",
        "import youtube_dl\n",
        "import torch\n",
        "from time import time"
      ]
    },
    {
      "cell_type": "code",
      "source": [
        "from torch import hub # Hub contains other models like FasterRCNN\n",
        "modeltorch = torch.hub.load( \\\n",
        "                      'ultralytics/yolov5', \\\n",
        "                      'yolov5s', \\\n",
        "                      pretrained=True)\n",
        "print(type(modeltorch))"
      ],
      "metadata": {
        "colab": {
          "base_uri": "https://localhost:8080/"
        },
        "id": "G7-hAIgJmV4x",
        "outputId": "331abbac-745b-4d8a-e8f5-f4e5dfa2aff9"
      },
      "execution_count": null,
      "outputs": [
        {
          "output_type": "stream",
          "name": "stderr",
          "text": [
            "Using cache found in /root/.cache/torch/hub/ultralytics_yolov5_master\n",
            "YOLOv5 🚀 2022-9-18 Python-3.7.14 torch-1.12.1+cu113 CUDA:0 (Tesla P100-PCIE-16GB, 16281MiB)\n",
            "\n",
            "Fusing layers... \n",
            "YOLOv5s summary: 213 layers, 7225885 parameters, 0 gradients\n",
            "Adding AutoShape... \n"
          ]
        },
        {
          "output_type": "stream",
          "name": "stdout",
          "text": [
            "<class 'models.common.AutoShape'>\n"
          ]
        }
      ]
    },
    {
      "cell_type": "code",
      "source": [
        "class Detect():\n",
        "     \n",
        "      # init method or constructor\n",
        "      def __init__(self):\n",
        "        #from torch import hub # Hub contains other models like FasterRCNN\n",
        "        #modeltorch = torch.hub.load( \\\n",
        "        #              'ultralytics/yolov5', \\\n",
        "        #              'yolov5s', \\\n",
        "        #              pretrained=True)\n",
        "        #print(type(modeltorch))\n",
        "        pass\n",
        "\n",
        "      def get_video_stream(self):\n",
        "        URL = \"https://www.youtube.com/watch?v=wqctLW0Hb_0\" #URL to parse\n",
        "        play = pafy.new(URL).streams[-1] #'-1' means read the lowest quality of video.\n",
        "        assert play is not None # we want to make sure their is a input to read.\n",
        "        stream = cv2.VideoCapture(play.url) #create a opencv video stream.\n",
        "        return stream\n",
        "\n",
        "        \"\"\"\n",
        "        The function below identifies the device which is availabe to make the prediction and uses it to load and infer the frame. Once it has results it will extract the labels and cordinates(Along with scores) for each object detected in the frame.\n",
        "        \"\"\"\n",
        "      def score_frame(frame, model):\n",
        "        device = 'cuda' if torch.cuda.is_available() else 'cpu'\n",
        "        print(type(modeltorch))\n",
        "        modeltorch.to(device)\n",
        "        frame = [torch.tensor(frame)]\n",
        "        #frame = [int(torch.tensor(frame)).long()]\n",
        "        results = self.model(frame)\n",
        "        labels = results.xyxyn[0][:, -1].numpy()\n",
        "        cord = results.xyxyn[0][:, :-1].numpy()\n",
        "        return labels, cord\n",
        "\n",
        "        \"\"\"\n",
        "        The function below takes the results and the frame as input and plots boxes over all the objects which have a score higer than our threshold.\n",
        "        \"\"\"\n",
        "      def plot_boxes(self, results, frame):\n",
        "        labels, cord = results\n",
        "        n = len(labels)\n",
        "        x_shape, y_shape = frame.shape[1], frame.shape[0]\n",
        "        for i in range(n):\n",
        "          row = cord[i]\n",
        "          # If score is less than 0.2 we avoid making a prediction.\n",
        "          if row[4] < 0.2: \n",
        "            continue\n",
        "          x1 = int(row[0]*x_shape)\n",
        "          y1 = int(row[1]*y_shape)\n",
        "          x2 = int(row[2]*x_shape)\n",
        "          y2 = int(row[3]*y_shape)\n",
        "          bgr = (0, 255, 0) # color of the box\n",
        "          classes = self.model.names # Get the name of label index\n",
        "          label_font = cv2.FONT_HERSHEY_SIMPLEX #Font for the label.\n",
        "          cv2.rectangle(frame, \\\n",
        "                      (x1, y1), (x2, y2), \\\n",
        "                       bgr, 2) #Plot the boxes\n",
        "          cv2.putText(frame,\\\n",
        "                    classes[labels[i]], \\\n",
        "                    (x1, y1), \\\n",
        "                    label_font, 0.9, bgr, 2) #Put a label over box.\n",
        "          return frame\n",
        "\n",
        "        \"\"\"\n",
        "        The Function below oracestrates the entire operation and performs the real-time parsing for video stream.\n",
        "        \"\"\"\n",
        "      def __call__(self):\n",
        "        out_file='motorway.mp4'\n",
        "        player = self.get_video_stream() #Get your video stream.\n",
        "        assert player.isOpened() # Make sure that their is a stream. \n",
        "        #Below code creates a new video writer object to write our\n",
        "        #output stream.\n",
        "        x_shape = int(player.get(cv2.CAP_PROP_FRAME_WIDTH))\n",
        "        y_shape = int(player.get(cv2.CAP_PROP_FRAME_HEIGHT))\n",
        "        four_cc = cv2.VideoWriter_fourcc(*\"MJPG\") #Using MJPEG codex\n",
        "        out = cv2.VideoWriter(out_file, four_cc, 20, \\\n",
        "                          (x_shape, y_shape)) \n",
        "        ret, frame = player.read() # Read the first frame.\n",
        "        while ret: # Run until stream is out of frames\n",
        "          start_time = time() # We would like to measure the FPS.\n",
        "          results = self.score_frame(frame) # Score the Frame\n",
        "          frame = self.plot_boxes(results, frame) # Plot the boxes.\n",
        "          end_time = time()\n",
        "          fps = 1/np.round(end_time - start_time, 3) #Measure the FPS.\n",
        "          print(f\"Frames Per Second : {fps}\")\n",
        "          out.write(frame) # Write the frame onto the output.\n",
        "          ret, frame = player.read() # Read next frame."
      ],
      "metadata": {
        "id": "IzEDteoGxd8X"
      },
      "execution_count": null,
      "outputs": []
    },
    {
      "cell_type": "code",
      "source": [
        "Motorway=Detect()\n",
        "Motorway()"
      ],
      "metadata": {
        "colab": {
          "base_uri": "https://localhost:8080/",
          "height": 345
        },
        "id": "GaaBQ7eLtTu1",
        "outputId": "bd11334f-f4a9-4934-ecb3-8aeeee5e3495"
      },
      "execution_count": null,
      "outputs": [
        {
          "output_type": "stream",
          "name": "stdout",
          "text": [
            "<class 'models.common.AutoShape'>\n"
          ]
        },
        {
          "output_type": "error",
          "ename": "RuntimeError",
          "evalue": "ignored",
          "traceback": [
            "\u001b[0;31m---------------------------------------------------------------------------\u001b[0m",
            "\u001b[0;31mRuntimeError\u001b[0m                              Traceback (most recent call last)",
            "\u001b[0;32m<ipython-input-24-4c68f32398a3>\u001b[0m in \u001b[0;36m<module>\u001b[0;34m\u001b[0m\n\u001b[1;32m      1\u001b[0m \u001b[0mMotorway\u001b[0m\u001b[0;34m=\u001b[0m\u001b[0mDetect\u001b[0m\u001b[0;34m(\u001b[0m\u001b[0;34m)\u001b[0m\u001b[0;34m\u001b[0m\u001b[0;34m\u001b[0m\u001b[0m\n\u001b[0;32m----> 2\u001b[0;31m \u001b[0mMotorway\u001b[0m\u001b[0;34m(\u001b[0m\u001b[0;34m)\u001b[0m\u001b[0;34m\u001b[0m\u001b[0;34m\u001b[0m\u001b[0m\n\u001b[0m",
            "\u001b[0;32m<ipython-input-23-726de6df687c>\u001b[0m in \u001b[0;36m__call__\u001b[0;34m(self)\u001b[0m\n\u001b[1;32m     77\u001b[0m         \u001b[0;32mwhile\u001b[0m \u001b[0mret\u001b[0m\u001b[0;34m:\u001b[0m \u001b[0;31m# Run until stream is out of frames\u001b[0m\u001b[0;34m\u001b[0m\u001b[0;34m\u001b[0m\u001b[0m\n\u001b[1;32m     78\u001b[0m           \u001b[0mstart_time\u001b[0m \u001b[0;34m=\u001b[0m \u001b[0mtime\u001b[0m\u001b[0;34m(\u001b[0m\u001b[0;34m)\u001b[0m \u001b[0;31m# We would like to measure the FPS.\u001b[0m\u001b[0;34m\u001b[0m\u001b[0;34m\u001b[0m\u001b[0m\n\u001b[0;32m---> 79\u001b[0;31m           \u001b[0mresults\u001b[0m \u001b[0;34m=\u001b[0m \u001b[0mself\u001b[0m\u001b[0;34m.\u001b[0m\u001b[0mscore_frame\u001b[0m\u001b[0;34m(\u001b[0m\u001b[0mframe\u001b[0m\u001b[0;34m)\u001b[0m \u001b[0;31m# Score the Frame\u001b[0m\u001b[0;34m\u001b[0m\u001b[0;34m\u001b[0m\u001b[0m\n\u001b[0m\u001b[1;32m     80\u001b[0m           \u001b[0mframe\u001b[0m \u001b[0;34m=\u001b[0m \u001b[0mself\u001b[0m\u001b[0;34m.\u001b[0m\u001b[0mplot_boxes\u001b[0m\u001b[0;34m(\u001b[0m\u001b[0mresults\u001b[0m\u001b[0;34m,\u001b[0m \u001b[0mframe\u001b[0m\u001b[0;34m)\u001b[0m \u001b[0;31m# Plot the boxes.\u001b[0m\u001b[0;34m\u001b[0m\u001b[0;34m\u001b[0m\u001b[0m\n\u001b[1;32m     81\u001b[0m           \u001b[0mend_time\u001b[0m \u001b[0;34m=\u001b[0m \u001b[0mtime\u001b[0m\u001b[0;34m(\u001b[0m\u001b[0;34m)\u001b[0m\u001b[0;34m\u001b[0m\u001b[0;34m\u001b[0m\u001b[0m\n",
            "\u001b[0;32m<ipython-input-23-726de6df687c>\u001b[0m in \u001b[0;36mscore_frame\u001b[0;34m(frame, model)\u001b[0m\n\u001b[1;32m     25\u001b[0m         \u001b[0mprint\u001b[0m\u001b[0;34m(\u001b[0m\u001b[0mtype\u001b[0m\u001b[0;34m(\u001b[0m\u001b[0mmodeltorch\u001b[0m\u001b[0;34m)\u001b[0m\u001b[0;34m)\u001b[0m\u001b[0;34m\u001b[0m\u001b[0;34m\u001b[0m\u001b[0m\n\u001b[1;32m     26\u001b[0m         \u001b[0mmodeltorch\u001b[0m\u001b[0;34m.\u001b[0m\u001b[0mto\u001b[0m\u001b[0;34m(\u001b[0m\u001b[0mdevice\u001b[0m\u001b[0;34m)\u001b[0m\u001b[0;34m\u001b[0m\u001b[0;34m\u001b[0m\u001b[0m\n\u001b[0;32m---> 27\u001b[0;31m         \u001b[0mframe\u001b[0m \u001b[0;34m=\u001b[0m \u001b[0;34m[\u001b[0m\u001b[0mtorch\u001b[0m\u001b[0;34m.\u001b[0m\u001b[0mtensor\u001b[0m\u001b[0;34m(\u001b[0m\u001b[0mframe\u001b[0m\u001b[0;34m)\u001b[0m\u001b[0;34m]\u001b[0m\u001b[0;34m\u001b[0m\u001b[0;34m\u001b[0m\u001b[0m\n\u001b[0m\u001b[1;32m     28\u001b[0m         \u001b[0;31m#frame = [int(torch.tensor(frame)).long()]\u001b[0m\u001b[0;34m\u001b[0m\u001b[0;34m\u001b[0m\u001b[0;34m\u001b[0m\u001b[0m\n\u001b[1;32m     29\u001b[0m         \u001b[0mresults\u001b[0m \u001b[0;34m=\u001b[0m \u001b[0mself\u001b[0m\u001b[0;34m.\u001b[0m\u001b[0mmodel\u001b[0m\u001b[0;34m(\u001b[0m\u001b[0mframe\u001b[0m\u001b[0;34m)\u001b[0m\u001b[0;34m\u001b[0m\u001b[0;34m\u001b[0m\u001b[0m\n",
            "\u001b[0;31mRuntimeError\u001b[0m: Could not infer dtype of Detect"
          ]
        }
      ]
    },
    {
      "cell_type": "code",
      "source": [
        "print(type(Detect))"
      ],
      "metadata": {
        "colab": {
          "base_uri": "https://localhost:8080/"
        },
        "id": "RsYvbY9BAV3S",
        "outputId": "34b3d575-7288-4e4d-bad6-027a92186041"
      },
      "execution_count": null,
      "outputs": [
        {
          "output_type": "stream",
          "name": "stdout",
          "text": [
            "<class 'type'>\n"
          ]
        }
      ]
    }
  ]
}